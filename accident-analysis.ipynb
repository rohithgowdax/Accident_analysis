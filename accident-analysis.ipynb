{
 "cells": [
  {
   "cell_type": "markdown",
   "metadata": {
    "_cell_guid": "296e0a2e-097f-4771-9b89-7c3969785da7",
    "_uuid": "48a11e9a-4e16-430b-99a6-47fe1a335aee",
    "collapsed": false,
    "jupyter": {
     "outputs_hidden": false
    },
    "trusted": true
   },
   "source": [
    "# US Accidents EDA  \n",
    "---\n",
    "\n",
    "This project focuses on exploring and analyzing the US Accidents dataset, which contains data on traffic incidents across the United States. The goal is to extract meaningful insights, identify patterns, and understand the factors that contribute to accidents across different states and times.\n",
    "\n",
    "- The dataset is sourced from Kaggle, providing comprehensive records of traffic accidents across the United States.\n",
    "\n",
    "- Insights derived from this analysis can contribute to strategies aimed at reducing and preventing accidents, enhancing road safety."
   ]
  },
  {
   "cell_type": "code",
   "execution_count": null,
   "metadata": {
    "_cell_guid": "1f61b927-dafe-4d5a-b078-914c030fbd06",
    "_uuid": "bfbc281a-9adf-4ec9-ad1d-c8e975afbd2d",
    "collapsed": false,
    "execution": {
     "iopub.execute_input": "2025-05-15T09:39:06.928316Z",
     "iopub.status.busy": "2025-05-15T09:39:06.927897Z",
     "iopub.status.idle": "2025-05-15T09:39:06.938115Z",
     "shell.execute_reply": "2025-05-15T09:39:06.937142Z",
     "shell.execute_reply.started": "2025-05-15T09:39:06.928282Z"
    },
    "jupyter": {
     "outputs_hidden": false
    },
    "trusted": true
   },
   "outputs": [],
   "source": [
    "import warnings\n",
    "#ignores 'Runtime Warning'!\n",
    "warnings.filterwarnings(\"ignore\", category=RuntimeWarning) \n",
    "#Ignores 'FutureWarning'!\n",
    "warnings.filterwarnings(\"ignore\", category=FutureWarning, message=\".*use_inf_as_na option is deprecated.*\")"
   ]
  },
  {
   "cell_type": "markdown",
   "metadata": {
    "_cell_guid": "50f5b846-d073-4734-a218-715c3628f5e3",
    "_uuid": "06ada811-7198-4c39-a0f5-7d6d8e536aed",
    "collapsed": false,
    "jupyter": {
     "outputs_hidden": false
    },
    "trusted": true
   },
   "source": [
    "## Load the Data\n",
    "---"
   ]
  },
  {
   "cell_type": "code",
   "execution_count": null,
   "metadata": {
    "_cell_guid": "99834e35-464c-4e1e-9d37-dabb25bcbaa1",
    "_uuid": "edb874c9-7ec6-4900-ac81-11d00a0f3d3c",
    "collapsed": false,
    "execution": {
     "iopub.execute_input": "2025-05-15T09:39:06.945805Z",
     "iopub.status.busy": "2025-05-15T09:39:06.945471Z",
     "iopub.status.idle": "2025-05-15T09:39:06.959789Z",
     "shell.execute_reply": "2025-05-15T09:39:06.958745Z",
     "shell.execute_reply.started": "2025-05-15T09:39:06.945781Z"
    },
    "jupyter": {
     "outputs_hidden": false
    },
    "trusted": true
   },
   "outputs": [],
   "source": [
    "data_url = \"https://www.kaggle.com/datasets/sobhanmoosavi/us-accidents\"\n",
    "data_filename = \"/kaggle/input/us-accidents/US_Accidents_March23.csv\""
   ]
  },
  {
   "cell_type": "code",
   "execution_count": null,
   "metadata": {
    "_cell_guid": "a5029211-78b2-4f8b-a524-2cd4517fc75d",
    "_uuid": "a3cdc8b9-3cad-4bab-8870-595a49bf0ac5",
    "collapsed": false,
    "execution": {
     "iopub.execute_input": "2025-05-15T09:39:06.961771Z",
     "iopub.status.busy": "2025-05-15T09:39:06.961380Z",
     "iopub.status.idle": "2025-05-15T09:39:07.392217Z",
     "shell.execute_reply": "2025-05-15T09:39:07.390329Z",
     "shell.execute_reply.started": "2025-05-15T09:39:06.961740Z"
    },
    "jupyter": {
     "outputs_hidden": false
    },
    "trusted": true
   },
   "outputs": [],
   "source": [
    "#libraries\n",
    "import pandas as pd\n",
    "import matplotlib.pyplot as plt\n",
    "import seaborn as sns"
   ]
  },
  {
   "cell_type": "markdown",
   "metadata": {
    "_cell_guid": "e8a2dd41-c7ee-4a6f-9bb0-cede0f06f5c2",
    "_uuid": "252d092d-2c65-48d7-98c0-7d5244dec5c6",
    "collapsed": false,
    "jupyter": {
     "outputs_hidden": false
    },
    "trusted": true
   },
   "source": [
    "## Data preparation & cleaning\n",
    "---\n",
    "- Load the data using Pandas\n",
    "- Look at some information about the data and the columns\n",
    "- Fix any incorrect or missing values"
   ]
  },
  {
   "cell_type": "code",
   "execution_count": null,
   "metadata": {
    "_cell_guid": "c240d20f-3983-4a8f-82b8-42abc952b644",
    "_uuid": "177f4b2d-8e3e-46be-9b15-3b079d01197e",
    "collapsed": false,
    "execution": {
     "iopub.execute_input": "2025-05-15T09:39:07.393943Z",
     "iopub.status.busy": "2025-05-15T09:39:07.393396Z",
     "iopub.status.idle": "2025-05-15T09:41:38.648958Z",
     "shell.execute_reply": "2025-05-15T09:41:38.647784Z",
     "shell.execute_reply.started": "2025-05-15T09:39:07.393894Z"
    },
    "jupyter": {
     "outputs_hidden": false
    },
    "trusted": true
   },
   "outputs": [],
   "source": [
    "df = pd.read_csv(data_filename)"
   ]
  },
  {
   "cell_type": "code",
   "execution_count": null,
   "metadata": {
    "_cell_guid": "0867485d-338f-450d-90a3-c853495e205d",
    "_uuid": "f2b605cc-d01a-4a6a-a789-26b4a61dccf2",
    "collapsed": false,
    "execution": {
     "iopub.execute_input": "2025-05-15T09:44:53.799145Z",
     "iopub.status.busy": "2025-05-15T09:44:53.798739Z",
     "iopub.status.idle": "2025-05-15T09:44:53.822462Z",
     "shell.execute_reply": "2025-05-15T09:44:53.821540Z",
     "shell.execute_reply.started": "2025-05-15T09:44:53.799118Z"
    },
    "jupyter": {
     "outputs_hidden": false
    },
    "trusted": true
   },
   "outputs": [],
   "source": [
    "df.head()"
   ]
  },
  {
   "cell_type": "code",
   "execution_count": null,
   "metadata": {
    "_cell_guid": "872cfbf0-9953-4c6e-b74e-9a144dffdb03",
    "_uuid": "b53fb0cd-17f0-47cc-8dcb-1610deabf05e",
    "collapsed": false,
    "execution": {
     "iopub.execute_input": "2025-05-15T09:41:44.761928Z",
     "iopub.status.busy": "2025-05-15T09:41:44.761709Z",
     "iopub.status.idle": "2025-05-15T09:41:44.769950Z",
     "shell.execute_reply": "2025-05-15T09:41:44.769135Z",
     "shell.execute_reply.started": "2025-05-15T09:41:44.761911Z"
    },
    "jupyter": {
     "outputs_hidden": false
    },
    "trusted": true
   },
   "outputs": [],
   "source": [
    "df.columns"
   ]
  },
  {
   "cell_type": "code",
   "execution_count": null,
   "metadata": {
    "_cell_guid": "0ee98a38-156e-4a1d-aa99-85948be29d76",
    "_uuid": "dd7a983b-8801-4480-a5ed-32b3d4595b26",
    "collapsed": false,
    "execution": {
     "iopub.execute_input": "2025-05-15T09:41:44.771262Z",
     "iopub.status.busy": "2025-05-15T09:41:44.770937Z",
     "iopub.status.idle": "2025-05-15T09:41:44.807233Z",
     "shell.execute_reply": "2025-05-15T09:41:44.806414Z",
     "shell.execute_reply.started": "2025-05-15T09:41:44.771230Z"
    },
    "jupyter": {
     "outputs_hidden": false
    },
    "trusted": true
   },
   "outputs": [],
   "source": [
    "df.info()"
   ]
  },
  {
   "cell_type": "code",
   "execution_count": null,
   "metadata": {
    "_cell_guid": "d1b5ed84-77be-4cca-9ffe-8ed0fba249ee",
    "_uuid": "b65e7b58-7869-4a0b-9252-1d38807d61bf",
    "collapsed": false,
    "execution": {
     "iopub.execute_input": "2025-05-15T09:41:44.809029Z",
     "iopub.status.busy": "2025-05-15T09:41:44.808610Z",
     "iopub.status.idle": "2025-05-15T09:41:53.565288Z",
     "shell.execute_reply": "2025-05-15T09:41:53.561665Z",
     "shell.execute_reply.started": "2025-05-15T09:41:44.808988Z"
    },
    "jupyter": {
     "outputs_hidden": false
    },
    "trusted": true
   },
   "outputs": [],
   "source": [
    "df.describe()"
   ]
  },
  {
   "cell_type": "code",
   "execution_count": null,
   "metadata": {
    "_cell_guid": "9aab3907-18d0-45e0-bd63-ce7a97d028ba",
    "_uuid": "4e8c4c66-92af-41ec-b306-86b14c81ff68",
    "collapsed": false,
    "execution": {
     "iopub.execute_input": "2025-05-15T09:41:53.569774Z",
     "iopub.status.busy": "2025-05-15T09:41:53.568786Z",
     "iopub.status.idle": "2025-05-15T09:42:06.728037Z",
     "shell.execute_reply": "2025-05-15T09:42:06.726830Z",
     "shell.execute_reply.started": "2025-05-15T09:41:53.569561Z"
    },
    "jupyter": {
     "outputs_hidden": false
    },
    "trusted": true
   },
   "outputs": [],
   "source": [
    "missing_percentage = df.isnull().sum().sort_values(ascending = False) / len(df) * 100\n",
    "print('\\033[32mMissing Value Percentage\\033[0m')\n",
    "missing_percentage"
   ]
  },
  {
   "cell_type": "code",
   "execution_count": null,
   "metadata": {
    "_cell_guid": "25cbf5c0-1aa0-497f-965c-9a5cfb1bb4f4",
    "_uuid": "c3084aa4-9b13-40a2-a7f4-cfd0b45c8a26",
    "collapsed": false,
    "execution": {
     "iopub.execute_input": "2025-05-15T09:42:06.736875Z",
     "iopub.status.busy": "2025-05-15T09:42:06.736467Z",
     "iopub.status.idle": "2025-05-15T09:42:06.751071Z",
     "shell.execute_reply": "2025-05-15T09:42:06.749286Z",
     "shell.execute_reply.started": "2025-05-15T09:42:06.736857Z"
    },
    "jupyter": {
     "outputs_hidden": false
    },
    "trusted": true
   },
   "outputs": [],
   "source": [
    "type(missing_percentage)"
   ]
  },
  {
   "cell_type": "code",
   "execution_count": null,
   "metadata": {
    "_cell_guid": "9c5fb281-b164-49f6-8b08-9034338e49e3",
    "_uuid": "81f82c89-3453-45ab-a944-7a63c487ade9",
    "collapsed": false,
    "execution": {
     "iopub.execute_input": "2025-05-15T09:42:06.754655Z",
     "iopub.status.busy": "2025-05-15T09:42:06.753834Z",
     "iopub.status.idle": "2025-05-15T09:42:06.783124Z",
     "shell.execute_reply": "2025-05-15T09:42:06.781231Z",
     "shell.execute_reply.started": "2025-05-15T09:42:06.754594Z"
    },
    "jupyter": {
     "outputs_hidden": false
    },
    "trusted": true
   },
   "outputs": [],
   "source": [
    "missing_percentage[missing_percentage > 0]"
   ]
  },
  {
   "cell_type": "code",
   "execution_count": null,
   "metadata": {
    "_cell_guid": "68ac0210-3e6b-4baa-97e6-606f8df22808",
    "_uuid": "630da224-fc4c-45f8-a2e6-9241655432ac",
    "collapsed": false,
    "execution": {
     "iopub.execute_input": "2025-05-15T09:42:06.784536Z",
     "iopub.status.busy": "2025-05-15T09:42:06.784283Z",
     "iopub.status.idle": "2025-05-15T09:42:13.690588Z",
     "shell.execute_reply": "2025-05-15T09:42:13.689574Z",
     "shell.execute_reply.started": "2025-05-15T09:42:06.784518Z"
    },
    "jupyter": {
     "outputs_hidden": false
    },
    "trusted": true
   },
   "outputs": [],
   "source": [
    "df.drop(['End_Lat','End_Lng', 'ID'], axis = 1, inplace = True)"
   ]
  },
  {
   "cell_type": "code",
   "execution_count": null,
   "metadata": {
    "_cell_guid": "cefe2687-31d2-4e1f-b14e-7d99796bfe66",
    "_uuid": "91b3f722-dfef-40b7-902f-a0262e6193c7",
    "collapsed": false,
    "execution": {
     "iopub.execute_input": "2025-05-15T09:42:13.692178Z",
     "iopub.status.busy": "2025-05-15T09:42:13.691764Z",
     "iopub.status.idle": "2025-05-15T09:42:14.176557Z",
     "shell.execute_reply": "2025-05-15T09:42:14.175566Z",
     "shell.execute_reply.started": "2025-05-15T09:42:13.692143Z"
    },
    "jupyter": {
     "outputs_hidden": false
    },
    "trusted": true
   },
   "outputs": [],
   "source": [
    "#Calculating no. of Numeric Columns \n",
    "numeric_df = df.select_dtypes(include = ['int', 'float'])\n",
    "f'No. of Numeric Columns = {len(numeric_df.columns)}'"
   ]
  },
  {
   "cell_type": "markdown",
   "metadata": {
    "_cell_guid": "c7bd721a-31fc-47cd-a744-c56496ab2b95",
    "_uuid": "f5ad87ac-aa9e-4cd3-ac6f-5119d49ac195",
    "collapsed": false,
    "jupyter": {
     "outputs_hidden": false
    },
    "trusted": true
   },
   "source": [
    "## Exploratory analysis & visualization\n",
    "---\n",
    "Columns under Considration:\n",
    "\n",
    "1. City\n",
    "2. Start Time\n",
    "3. Start Lat, Start Lang.\n",
    "4. Temparature\n",
    "5. Weather Condition"
   ]
  },
  {
   "cell_type": "markdown",
   "metadata": {
    "_cell_guid": "ce912b1e-3176-4247-b6b0-912c83d36f17",
    "_uuid": "9ffb31b0-22c5-4a6c-b6f0-90de34ce40a4",
    "collapsed": false,
    "jupyter": {
     "outputs_hidden": false
    },
    "trusted": true
   },
   "source": [
    "### 1. Exploring Cities\n",
    "---"
   ]
  },
  {
   "cell_type": "code",
   "execution_count": null,
   "metadata": {
    "_cell_guid": "7d4f938c-96ef-480c-9614-8ba0aab57c89",
    "_uuid": "0f459fff-15e2-4171-a95f-2e56756b8a16",
    "collapsed": false,
    "execution": {
     "iopub.execute_input": "2025-05-15T09:45:17.344397Z",
     "iopub.status.busy": "2025-05-15T09:45:17.344053Z",
     "iopub.status.idle": "2025-05-15T09:45:17.903679Z",
     "shell.execute_reply": "2025-05-15T09:45:17.902689Z",
     "shell.execute_reply.started": "2025-05-15T09:45:17.344376Z"
    },
    "jupyter": {
     "outputs_hidden": false
    },
    "trusted": true
   },
   "outputs": [],
   "source": [
    "cities = df.City.unique()\n",
    "len(cities)"
   ]
  },
  {
   "cell_type": "code",
   "execution_count": null,
   "metadata": {
    "_cell_guid": "8c3edbdd-61a2-428b-8425-6725f010c8be",
    "_uuid": "3b064801-2c2a-402d-b84a-55d23b40a18e",
    "collapsed": false,
    "execution": {
     "iopub.execute_input": "2025-05-15T09:42:14.856281Z",
     "iopub.status.busy": "2025-05-15T09:42:14.855949Z",
     "iopub.status.idle": "2025-05-15T09:42:15.677711Z",
     "shell.execute_reply": "2025-05-15T09:42:15.676761Z",
     "shell.execute_reply.started": "2025-05-15T09:42:14.856247Z"
    },
    "jupyter": {
     "outputs_hidden": false
    },
    "trusted": true
   },
   "outputs": [],
   "source": [
    "cities_by_accident = df.City.value_counts()\n",
    "cities_by_accident[:20]"
   ]
  },
  {
   "cell_type": "code",
   "execution_count": null,
   "metadata": {
    "_cell_guid": "c21829e3-f724-4d6a-a36f-ec863ef101cc",
    "_uuid": "30cb7f03-dd6d-4ade-9a7c-e149036e275c",
    "collapsed": false,
    "execution": {
     "iopub.execute_input": "2025-05-15T09:42:15.679147Z",
     "iopub.status.busy": "2025-05-15T09:42:15.678798Z",
     "iopub.status.idle": "2025-05-15T09:42:15.689331Z",
     "shell.execute_reply": "2025-05-15T09:42:15.688302Z",
     "shell.execute_reply.started": "2025-05-15T09:42:15.679119Z"
    },
    "jupyter": {
     "outputs_hidden": false
    },
    "trusted": true
   },
   "outputs": [],
   "source": [
    "cities_by_accident.loc['New York']"
   ]
  },
  {
   "cell_type": "code",
   "execution_count": null,
   "metadata": {
    "_cell_guid": "d290ea1a-c024-4cc5-a93e-661b1b90d142",
    "_uuid": "a88fce2e-4f6f-41f0-9189-b28c90db2549",
    "collapsed": false,
    "execution": {
     "iopub.execute_input": "2025-05-15T09:42:15.690974Z",
     "iopub.status.busy": "2025-05-15T09:42:15.690565Z",
     "iopub.status.idle": "2025-05-15T09:42:16.177015Z",
     "shell.execute_reply": "2025-05-15T09:42:16.176048Z",
     "shell.execute_reply.started": "2025-05-15T09:42:15.690939Z"
    },
    "jupyter": {
     "outputs_hidden": false
    },
    "trusted": true
   },
   "outputs": [],
   "source": [
    "cities_by_accident[:20].plot(kind='barh', figsize=(12, 7))"
   ]
  },
  {
   "cell_type": "code",
   "execution_count": null,
   "metadata": {
    "_cell_guid": "c22fb948-f3de-463a-b08b-35245fed47bc",
    "_uuid": "47948536-470a-40e0-8ef3-fc607783aadb",
    "collapsed": false,
    "execution": {
     "iopub.execute_input": "2025-05-15T09:42:17.740803Z",
     "iopub.status.busy": "2025-05-15T09:42:17.740390Z",
     "iopub.status.idle": "2025-05-15T09:42:18.323423Z",
     "shell.execute_reply": "2025-05-15T09:42:18.322366Z",
     "shell.execute_reply.started": "2025-05-15T09:42:17.740783Z"
    },
    "jupyter": {
     "outputs_hidden": false
    },
    "trusted": true
   },
   "outputs": [],
   "source": [
    "# NOTE: aspect attribute widens the plot\n",
    "sns.displot(cities_by_accident, kind='kde', aspect = 2)\n",
    "plt.xlabel('Number of Accidents')\n",
    "plt.ylabel('Density')"
   ]
  },
  {
   "cell_type": "code",
   "execution_count": null,
   "metadata": {
    "_cell_guid": "4aa10b76-6872-435b-9792-aab0b1d3fdd2",
    "_uuid": "b360ab08-caf8-463a-9bbf-4db89ef1a6c1",
    "collapsed": false,
    "execution": {
     "iopub.execute_input": "2025-05-15T09:42:18.324910Z",
     "iopub.status.busy": "2025-05-15T09:42:18.324565Z",
     "iopub.status.idle": "2025-05-15T09:42:18.331604Z",
     "shell.execute_reply": "2025-05-15T09:42:18.330600Z",
     "shell.execute_reply.started": "2025-05-15T09:42:18.324865Z"
    },
    "jupyter": {
     "outputs_hidden": false
    },
    "trusted": true
   },
   "outputs": [],
   "source": [
    "high_accident_cities = cities_by_accident[cities_by_accident >= 1000]\n",
    "low_accident_cities = cities_by_accident[cities_by_accident < 1000]"
   ]
  },
  {
   "cell_type": "code",
   "execution_count": null,
   "metadata": {
    "_cell_guid": "248389dc-00a6-4691-a616-7ccfdcf60f28",
    "_uuid": "de22788b-b154-4bdc-be4a-935d340766b2",
    "collapsed": false,
    "execution": {
     "iopub.execute_input": "2025-05-15T09:42:18.333023Z",
     "iopub.status.busy": "2025-05-15T09:42:18.332683Z",
     "iopub.status.idle": "2025-05-15T09:42:18.353210Z",
     "shell.execute_reply": "2025-05-15T09:42:18.352136Z",
     "shell.execute_reply.started": "2025-05-15T09:42:18.332996Z"
    },
    "jupyter": {
     "outputs_hidden": false
    },
    "trusted": true
   },
   "outputs": [],
   "source": [
    "print(f'Out of {len(cities_by_accident)} cities \\033[93m {len(high_accident_cities)} \\033[0m have more than 1000 yearly accidents')"
   ]
  },
  {
   "cell_type": "code",
   "execution_count": null,
   "metadata": {
    "_cell_guid": "6ede6b93-60fe-46b7-adec-3712e41aaf74",
    "_uuid": "79271bca-a1da-4984-a6d6-deda2df70186",
    "collapsed": false,
    "execution": {
     "iopub.execute_input": "2025-05-15T09:42:18.354326Z",
     "iopub.status.busy": "2025-05-15T09:42:18.354101Z",
     "iopub.status.idle": "2025-05-15T09:42:18.374139Z",
     "shell.execute_reply": "2025-05-15T09:42:18.373049Z",
     "shell.execute_reply.started": "2025-05-15T09:42:18.354309Z"
    },
    "jupyter": {
     "outputs_hidden": false
    },
    "trusted": true
   },
   "outputs": [],
   "source": [
    "print(f'Out of {len(cities_by_accident)} cities \\033[93m {len(low_accident_cities)} \\033[0m have less than 1000 yearly accidents')"
   ]
  },
  {
   "cell_type": "code",
   "execution_count": null,
   "metadata": {
    "_cell_guid": "e444b2b5-09d4-4afc-abea-c4893e198292",
    "_uuid": "8f4495cd-730c-4f37-a9e7-9ff9628c8112",
    "collapsed": false,
    "execution": {
     "iopub.execute_input": "2025-05-15T09:42:18.376154Z",
     "iopub.status.busy": "2025-05-15T09:42:18.375444Z",
     "iopub.status.idle": "2025-05-15T09:42:18.395637Z",
     "shell.execute_reply": "2025-05-15T09:42:18.394623Z",
     "shell.execute_reply.started": "2025-05-15T09:42:18.376119Z"
    },
    "jupyter": {
     "outputs_hidden": false
    },
    "trusted": true
   },
   "outputs": [],
   "source": [
    "#percentage of cities which have more then 1000 acccidents\n",
    "high = len(high_accident_cities)/len(cities_by_accident) *100\n",
    "f'{high:.2f}%'"
   ]
  },
  {
   "cell_type": "code",
   "execution_count": null,
   "metadata": {
    "_cell_guid": "5a544c49-a2ce-4e05-81e9-590e5dfd2241",
    "_uuid": "4f87c89f-e450-4214-8a24-81991aae0012",
    "collapsed": false,
    "execution": {
     "iopub.execute_input": "2025-05-15T09:42:18.397002Z",
     "iopub.status.busy": "2025-05-15T09:42:18.396717Z",
     "iopub.status.idle": "2025-05-15T09:42:18.415052Z",
     "shell.execute_reply": "2025-05-15T09:42:18.413783Z",
     "shell.execute_reply.started": "2025-05-15T09:42:18.396981Z"
    },
    "jupyter": {
     "outputs_hidden": false
    },
    "trusted": true
   },
   "outputs": [],
   "source": [
    "#percentage of cities which have less then 1000 acccidents\n",
    "less = len(low_accident_cities)/len(cities_by_accident) *100\n",
    "f'{less:.2f}%'"
   ]
  },
  {
   "cell_type": "code",
   "execution_count": null,
   "metadata": {
    "_cell_guid": "16b312e8-f0bf-47b5-8af7-9e60fc224617",
    "_uuid": "24e2c5ae-fb7c-4780-836e-e9da95d78a3b",
    "collapsed": false,
    "execution": {
     "iopub.execute_input": "2025-05-15T09:42:18.420147Z",
     "iopub.status.busy": "2025-05-15T09:42:18.419740Z",
     "iopub.status.idle": "2025-05-15T09:42:19.493656Z",
     "shell.execute_reply": "2025-05-15T09:42:19.492328Z",
     "shell.execute_reply.started": "2025-05-15T09:42:18.420122Z"
    },
    "jupyter": {
     "outputs_hidden": false
    },
    "trusted": true
   },
   "outputs": [],
   "source": [
    "# NOTE: aspect attribute widens the plot\n",
    "sns.displot(high_accident_cities, kind='kde', log_scale=True, aspect = 2)\n",
    "plt.xlabel('Number of Accidents')\n",
    "plt.ylabel('Density')\n",
    "plt.title('Distribution of High accident cities')"
   ]
  },
  {
   "cell_type": "markdown",
   "metadata": {
    "_cell_guid": "7d174db9-d7ef-4f34-b556-dafc67a42aa8",
    "_uuid": "afd1792e-d88e-4e12-bcd0-1051f27b485e",
    "collapsed": false,
    "jupyter": {
     "outputs_hidden": false
    },
    "trusted": true
   },
   "source": [
    "- Plot concludes the presence of fewer  cities with 1,00,000 accident"
   ]
  },
  {
   "cell_type": "code",
   "execution_count": null,
   "metadata": {
    "_cell_guid": "c6005c84-db4f-4ed5-bbff-9405c77e8500",
    "_uuid": "dab36692-292b-40a2-8efe-dcb416ec9a07",
    "collapsed": false,
    "execution": {
     "iopub.execute_input": "2025-05-15T09:42:19.495327Z",
     "iopub.status.busy": "2025-05-15T09:42:19.494957Z",
     "iopub.status.idle": "2025-05-15T09:42:20.519254Z",
     "shell.execute_reply": "2025-05-15T09:42:20.518228Z",
     "shell.execute_reply.started": "2025-05-15T09:42:19.495297Z"
    },
    "jupyter": {
     "outputs_hidden": false
    },
    "trusted": true
   },
   "outputs": [],
   "source": [
    "# NOTE: aspect attribute widens the plot\n",
    "sns.displot(low_accident_cities, kind='kde', log_scale=True, aspect = 2)\n",
    "plt.xlabel('Number of Accidents')\n",
    "plt.ylabel('Density')\n",
    "plt.title('Distribution of low accident cities')"
   ]
  },
  {
   "cell_type": "markdown",
   "metadata": {
    "_cell_guid": "e4722e25-d91e-4ab4-993d-99802db764c7",
    "_uuid": "1d11720c-d0f3-4894-8169-4b72405998fc",
    "collapsed": false,
    "jupyter": {
     "outputs_hidden": false
    },
    "trusted": true
   },
   "source": [
    "- Plot concludes the presence of more no. of cities with just one accident"
   ]
  },
  {
   "cell_type": "code",
   "execution_count": null,
   "metadata": {
    "_cell_guid": "c3cc1da5-7dd8-4c45-ac98-42427c2bbcc1",
    "_uuid": "3dfdba8e-aa9b-48a0-9719-c2cdb8371be5",
    "collapsed": false,
    "execution": {
     "iopub.execute_input": "2025-05-15T10:01:41.388187Z",
     "iopub.status.busy": "2025-05-15T10:01:41.387841Z",
     "iopub.status.idle": "2025-05-15T10:01:41.395689Z",
     "shell.execute_reply": "2025-05-15T10:01:41.394438Z",
     "shell.execute_reply.started": "2025-05-15T10:01:41.388162Z"
    },
    "jupyter": {
     "outputs_hidden": false
    },
    "trusted": true
   },
   "outputs": [],
   "source": [
    "one_accident = len(cities_by_accident[cities_by_accident == 1])\n",
    "print(f'No. of cities with just one accident \\033[32m \"{one_accident}\" \\033[0m')"
   ]
  },
  {
   "cell_type": "markdown",
   "metadata": {
    "_cell_guid": "d22c936e-ba5b-4e99-b23c-7ac8798b1c07",
    "_uuid": "14f73d22-7d18-419f-920f-dd8eb69c88e4",
    "collapsed": false,
    "jupyter": {
     "outputs_hidden": false
    },
    "trusted": true
   },
   "source": [
    "### 2. Exploring Start Time\n",
    "___"
   ]
  },
  {
   "cell_type": "code",
   "execution_count": null,
   "metadata": {
    "_cell_guid": "1aac3aed-e27c-429d-8803-27f1b017b50c",
    "_uuid": "7213209a-4b11-4ea5-9aff-57416df84eae",
    "collapsed": false,
    "execution": {
     "iopub.execute_input": "2025-05-15T09:42:20.529889Z",
     "iopub.status.busy": "2025-05-15T09:42:20.529495Z",
     "iopub.status.idle": "2025-05-15T09:42:20.549180Z",
     "shell.execute_reply": "2025-05-15T09:42:20.548180Z",
     "shell.execute_reply.started": "2025-05-15T09:42:20.529858Z"
    },
    "jupyter": {
     "outputs_hidden": false
    },
    "trusted": true
   },
   "outputs": [],
   "source": [
    "df.Start_Time"
   ]
  },
  {
   "cell_type": "code",
   "execution_count": null,
   "metadata": {
    "_cell_guid": "f384780e-eb36-4f1f-a5fd-b72cd025106f",
    "_uuid": "ec950a65-5e64-447f-8a7e-652ba74f3231",
    "collapsed": false,
    "execution": {
     "iopub.execute_input": "2025-05-15T09:42:20.550677Z",
     "iopub.status.busy": "2025-05-15T09:42:20.550370Z",
     "iopub.status.idle": "2025-05-15T09:42:20.567799Z",
     "shell.execute_reply": "2025-05-15T09:42:20.566290Z",
     "shell.execute_reply.started": "2025-05-15T09:42:20.550657Z"
    },
    "jupyter": {
     "outputs_hidden": false
    },
    "trusted": true
   },
   "outputs": [],
   "source": [
    "type(df.Start_Time)"
   ]
  },
  {
   "cell_type": "code",
   "execution_count": null,
   "metadata": {
    "_cell_guid": "2f0a9e51-0010-47de-a42b-f082a22102c1",
    "_uuid": "af412c70-ba41-457a-9c05-17a44be1c8c7",
    "collapsed": false,
    "execution": {
     "iopub.execute_input": "2025-05-15T09:42:20.569300Z",
     "iopub.status.busy": "2025-05-15T09:42:20.568969Z",
     "iopub.status.idle": "2025-05-15T09:42:24.052425Z",
     "shell.execute_reply": "2025-05-15T09:42:24.051319Z",
     "shell.execute_reply.started": "2025-05-15T09:42:20.569277Z"
    },
    "jupyter": {
     "outputs_hidden": false
    },
    "trusted": true
   },
   "outputs": [],
   "source": [
    "df['Start_Time'] = pd.to_datetime(df['Start_Time'], format='mixed')\n",
    "df['Start_Time'] = pd.to_datetime(df['Start_Time'], format=\"%Y-%m-%d %H:%M:%S.%f\")"
   ]
  },
  {
   "cell_type": "code",
   "execution_count": null,
   "metadata": {
    "_cell_guid": "5144b83f-66a5-495a-89a8-fb5df769a2f8",
    "_uuid": "62659117-dec3-40bd-ad9d-9fcdb0b23f1f",
    "collapsed": false,
    "execution": {
     "iopub.execute_input": "2025-05-15T09:42:24.053734Z",
     "iopub.status.busy": "2025-05-15T09:42:24.053461Z",
     "iopub.status.idle": "2025-05-15T09:42:24.063290Z",
     "shell.execute_reply": "2025-05-15T09:42:24.062410Z",
     "shell.execute_reply.started": "2025-05-15T09:42:24.053714Z"
    },
    "jupyter": {
     "outputs_hidden": false
    },
    "trusted": true
   },
   "outputs": [],
   "source": [
    "df['Start_Time']"
   ]
  },
  {
   "cell_type": "code",
   "execution_count": null,
   "metadata": {
    "_cell_guid": "75a2afc8-b00c-4898-8c0c-ffb8e7e92a2f",
    "_uuid": "dbb55d9d-3567-4a60-aeeb-45a76ec70a7b",
    "collapsed": false,
    "execution": {
     "iopub.execute_input": "2025-05-15T09:42:24.064446Z",
     "iopub.status.busy": "2025-05-15T09:42:24.064165Z",
     "iopub.status.idle": "2025-05-15T09:42:24.087511Z",
     "shell.execute_reply": "2025-05-15T09:42:24.086452Z",
     "shell.execute_reply.started": "2025-05-15T09:42:24.064425Z"
    },
    "jupyter": {
     "outputs_hidden": false
    },
    "trusted": true
   },
   "outputs": [],
   "source": [
    "df.Start_Time[0]"
   ]
  },
  {
   "cell_type": "code",
   "execution_count": null,
   "metadata": {
    "_cell_guid": "27ec2b96-3fc9-4834-8d41-eda2820fac3e",
    "_uuid": "d7171564-9f2e-4b8d-95ca-7b07c19592c4",
    "collapsed": false,
    "execution": {
     "iopub.execute_input": "2025-05-15T09:42:24.089007Z",
     "iopub.status.busy": "2025-05-15T09:42:24.088710Z",
     "iopub.status.idle": "2025-05-15T09:42:29.281251Z",
     "shell.execute_reply": "2025-05-15T09:42:29.280257Z",
     "shell.execute_reply.started": "2025-05-15T09:42:24.088981Z"
    },
    "jupyter": {
     "outputs_hidden": false
    },
    "trusted": true
   },
   "outputs": [],
   "source": [
    "#retriving hour of the ouccered accidents 'df.Start_Time.dt.hour'\n",
    "# NOTE: aspect attribute widens the plot\n",
    "sns.displot(df.Start_Time.dt.hour, bins= 24, stat='percent', aspect = 2 )\n",
    "plt.title('Accidents at a perticular Hour')\n",
    "plt.ylabel(\"Percentage\")\n",
    "plt.ylabel(\"Hour\")\n",
    "plt.xticks(ticks=range(0,24),labels=list(range(1,25)))\n",
    "plt.show()"
   ]
  },
  {
   "cell_type": "markdown",
   "metadata": {
    "_cell_guid": "3b87a2ba-3ce1-4fbd-bf1c-d08682ab1b02",
    "_uuid": "4d5fdc9f-ba37-4769-90b2-9720c5dc5cad",
    "collapsed": false,
    "jupyter": {
     "outputs_hidden": false
    },
    "trusted": true
   },
   "source": [
    "- A high percentage of accidents occur between 6 am to 11 am (probability people in hurry to get to work)\n",
    "- Next highest percentage is between 3 pm to 6 pm."
   ]
  },
  {
   "cell_type": "code",
   "execution_count": null,
   "metadata": {
    "_cell_guid": "1215881f-7147-41d3-93ee-2913b03d044b",
    "_uuid": "1cba92b3-7061-4656-928b-84f34b703f2c",
    "collapsed": false,
    "execution": {
     "iopub.execute_input": "2025-05-15T09:42:29.282616Z",
     "iopub.status.busy": "2025-05-15T09:42:29.282317Z",
     "iopub.status.idle": "2025-05-15T09:42:34.169299Z",
     "shell.execute_reply": "2025-05-15T09:42:34.167941Z",
     "shell.execute_reply.started": "2025-05-15T09:42:29.282596Z"
    },
    "jupyter": {
     "outputs_hidden": false
    },
    "trusted": true
   },
   "outputs": [],
   "source": [
    "#retriving day of the week 'df.Start_Time.dt.hour'\n",
    "# NOTE: aspect attribute widens the plot\n",
    "sns.displot(df.Start_Time.dt.dayofweek, bins= 7, stat='percent', aspect = 2 )\n",
    "plt.title('Accidents at day of a week')\n",
    "plt.ylabel(\"Percentage\")\n",
    "plt.xlabel(\"Days\")\n",
    "plt.xticks(ticks=range(7), labels=['Mon', 'Tue', 'Wed', 'Thu', 'Fri', 'Sat', 'Sun'])\n",
    "plt.show()"
   ]
  },
  {
   "cell_type": "markdown",
   "metadata": {
    "_cell_guid": "c3bd21ad-6f0a-4797-91d5-0323bcdd0c43",
    "_uuid": "e748477a-dc54-4029-b6b3-fcec77f0e08d",
    "collapsed": false,
    "jupyter": {
     "outputs_hidden": false
    },
    "trusted": true
   },
   "source": [
    "- Weekednds has fewer accidents."
   ]
  },
  {
   "cell_type": "code",
   "execution_count": null,
   "metadata": {
    "_cell_guid": "94120818-641e-402c-a7ea-f7515b7ddd40",
    "_uuid": "eb229fab-7044-4cfe-b1dd-226f357d89bf",
    "collapsed": false,
    "execution": {
     "iopub.execute_input": "2025-05-15T09:42:34.170920Z",
     "iopub.status.busy": "2025-05-15T09:42:34.170639Z",
     "iopub.status.idle": "2025-05-15T09:42:35.280374Z",
     "shell.execute_reply": "2025-05-15T09:42:35.279336Z",
     "shell.execute_reply.started": "2025-05-15T09:42:34.170897Z"
    },
    "jupyter": {
     "outputs_hidden": false
    },
    "trusted": true
   },
   "outputs": [],
   "source": [
    "mon_start_time = df.Start_Time[(df.Start_Time.dt.dayofweek == 0)] #Monday\n",
    "sat_start_time = df.Start_Time[(df.Start_Time.dt.dayofweek == 5)] #Saturday\n",
    "sun_start_time = df.Start_Time[(df.Start_Time.dt.dayofweek == 6)] #Sunday"
   ]
  },
  {
   "cell_type": "code",
   "execution_count": null,
   "metadata": {
    "_cell_guid": "989afbe4-9700-4b37-8448-bba8fd0331ca",
    "_uuid": "7d6287b6-a049-4573-84d4-787f6ed02d5a",
    "collapsed": false,
    "execution": {
     "iopub.execute_input": "2025-05-15T09:42:35.281692Z",
     "iopub.status.busy": "2025-05-15T09:42:35.281439Z",
     "iopub.status.idle": "2025-05-15T09:42:38.219394Z",
     "shell.execute_reply": "2025-05-15T09:42:38.218368Z",
     "shell.execute_reply.started": "2025-05-15T09:42:35.281674Z"
    },
    "jupyter": {
     "outputs_hidden": false
    },
    "trusted": true
   },
   "outputs": [],
   "source": [
    "#retriving hour of the ouccered accidents 'df.Start_Time.dt.hour'\n",
    "# NOTE: aspect attribute widens the plot\n",
    "sns.displot(mon_start_time.dt.hour, bins= 24, stat='percent', aspect = 2 )\n",
    "plt.title('Accidents at a perticular Hour')\n",
    "plt.ylabel(\"Percentage\")\n",
    "plt.xlabel(\"Monday\")\n",
    "plt.xticks(ticks=range(0,24),labels=list(range(1,25)))\n",
    "\n",
    "#retriving hour of the ouccered accidents 'df.Start_Time.dt.hour'\n",
    "# NOTE: aspect attribute widens the plot\n",
    "sns.displot(sat_start_time.dt.hour, bins= 24, stat='percent', aspect = 2 )\n",
    "plt.title('Accidents at a perticular Hour')\n",
    "plt.ylabel(\"Percentage\")\n",
    "plt.xlabel(\"Saturday\")\n",
    "plt.xticks(ticks=range(0,24),labels=list(range(1,25)))\n",
    "\n",
    "#retriving hour of the ouccered accidents 'df.Start_Time.dt.hour'\n",
    "# NOTE: aspect attribute widens the plot\n",
    "sns.displot(sun_start_time.dt.hour, bins= 24, stat='percent', aspect = 2 )\n",
    "plt.title('Accidents at a perticular Hour')\n",
    "plt.ylabel(\"Percentage\")\n",
    "plt.xlabel(\"Sunday\")\n",
    "plt.xticks(ticks=range(0,24),labels=list(range(1,25)))\n",
    "\n",
    "plt.show()"
   ]
  },
  {
   "cell_type": "markdown",
   "metadata": {
    "_cell_guid": "7e581bd9-eacc-4710-aaf4-7ee1a2e42227",
    "_uuid": "ce5869b1-2477-409c-82fc-419db765d77d",
    "collapsed": false,
    "jupyter": {
     "outputs_hidden": false
    },
    "trusted": true
   },
   "source": [
    "**Is the distribution of accidents by hour same on weekends as on weekdays?**\n",
    "\n",
    "- On Sundays & Saturdays (Weekends) Peak time is between 10 am and 8 pm unlike week days.\n",
    "add Codeadd Markdown"
   ]
  },
  {
   "cell_type": "markdown",
   "metadata": {
    "_cell_guid": "b90755cf-f644-4bea-a060-14ece5a0513b",
    "_uuid": "bfa0913b-af7b-49a4-aae9-4a219a3347ac",
    "collapsed": false,
    "jupyter": {
     "outputs_hidden": false
    },
    "trusted": true
   },
   "source": []
  },
  {
   "cell_type": "code",
   "execution_count": null,
   "metadata": {
    "_cell_guid": "393581ce-4e80-4a56-816b-03693603d0bc",
    "_uuid": "3f26689b-90c6-4c95-8c2f-afade1a6700a",
    "collapsed": false,
    "execution": {
     "iopub.execute_input": "2025-05-15T09:42:38.220789Z",
     "iopub.status.busy": "2025-05-15T09:42:38.220521Z",
     "iopub.status.idle": "2025-05-15T09:42:38.496111Z",
     "shell.execute_reply": "2025-05-15T09:42:38.495224Z",
     "shell.execute_reply.started": "2025-05-15T09:42:38.220769Z"
    },
    "jupyter": {
     "outputs_hidden": false
    },
    "trusted": true
   },
   "outputs": [],
   "source": [
    "year = 2019  #Tunable \n",
    "df_2023 = df.Start_Time[df.Start_Time.dt.year == year]"
   ]
  },
  {
   "cell_type": "code",
   "execution_count": null,
   "metadata": {
    "_cell_guid": "07c7c389-1571-4f92-a86e-1ce0a2fbc628",
    "_uuid": "06a75bf8-c9d0-48e0-a2a4-bb2ac23be55c",
    "collapsed": false,
    "execution": {
     "iopub.execute_input": "2025-05-15T09:42:38.497542Z",
     "iopub.status.busy": "2025-05-15T09:42:38.497211Z",
     "iopub.status.idle": "2025-05-15T09:42:39.493858Z",
     "shell.execute_reply": "2025-05-15T09:42:39.492976Z",
     "shell.execute_reply.started": "2025-05-15T09:42:38.497520Z"
    },
    "jupyter": {
     "outputs_hidden": false
    },
    "trusted": true
   },
   "outputs": [],
   "source": [
    "#retriving month of the ouccered accidents 'df.Start_Time.dt.month'\n",
    "# NOTE: aspect attribute widens the plot\n",
    "\n",
    "sns.displot(df_2023.dt.month, bins= 12, stat='percent', aspect = 2 )\n",
    "plt.title(f'Trend of aaccidents in {year}')\n",
    "plt.ylabel(\"Percentage\")\n",
    "plt.xlabel(\"Month\")\n",
    "plt.xticks(ticks=range(1,13),labels=['Jan', 'Feb', 'Mar', 'Apr', 'May', 'Jun', \n",
    "          'Jul', 'Aug', 'Sep', 'Oct', 'Nov', 'Dec'])\n",
    "plt.plot()"
   ]
  },
  {
   "cell_type": "markdown",
   "metadata": {
    "_cell_guid": "34c07d9d-0103-49be-8515-e99536656ddc",
    "_uuid": "f1c488f1-1456-4162-9ed6-07316f95cfc9",
    "collapsed": false,
    "jupyter": {
     "outputs_hidden": false
    },
    "trusted": true
   },
   "source": [
    "- Much data is missing for 2016, 2017 & 2023"
   ]
  },
  {
   "cell_type": "code",
   "execution_count": null,
   "metadata": {
    "_cell_guid": "fc807df0-d37e-4f3a-884d-7f564ff6889b",
    "_uuid": "ab6e1ef0-f69f-4f83-9d57-306808c8ded9",
    "collapsed": false,
    "execution": {
     "iopub.execute_input": "2025-05-15T09:42:39.495191Z",
     "iopub.status.busy": "2025-05-15T09:42:39.494911Z",
     "iopub.status.idle": "2025-05-15T09:42:40.744303Z",
     "shell.execute_reply": "2025-05-15T09:42:40.743400Z",
     "shell.execute_reply.started": "2025-05-15T09:42:39.495162Z"
    },
    "jupyter": {
     "outputs_hidden": false
    },
    "trusted": true
   },
   "outputs": [],
   "source": [
    "df.Source.value_counts().plot(kind='pie')\n",
    "df.Source.unique()"
   ]
  },
  {
   "cell_type": "markdown",
   "metadata": {
    "_cell_guid": "c8e70005-ac3b-41f1-b906-68c02695ce54",
    "_uuid": "360ae40a-345a-4551-a47c-5ceaba0fbc59",
    "collapsed": false,
    "jupyter": {
     "outputs_hidden": false
    },
    "trusted": true
   },
   "source": [
    "- Source 2 has Inconsistant data (Cross Verified)"
   ]
  },
  {
   "cell_type": "markdown",
   "metadata": {
    "_cell_guid": "f6070466-55de-4e6e-a3dc-f5c98f65a1ef",
    "_uuid": "d0e1de99-0b26-42e6-9a14-ac71a4ce1ae7",
    "collapsed": false,
    "jupyter": {
     "outputs_hidden": false
    },
    "trusted": true
   },
   "source": [
    "### 3. Exploring Start Lattitude & Start Longitude\n",
    "---"
   ]
  },
  {
   "cell_type": "code",
   "execution_count": null,
   "metadata": {
    "_cell_guid": "9a325593-57fc-44b8-b12e-fb948e8fa021",
    "_uuid": "6ef1f41c-ec85-4707-a98e-ae0ed17b6f52",
    "collapsed": false,
    "execution": {
     "iopub.execute_input": "2025-05-15T09:42:40.745611Z",
     "iopub.status.busy": "2025-05-15T09:42:40.745291Z",
     "iopub.status.idle": "2025-05-15T09:43:03.860070Z",
     "shell.execute_reply": "2025-05-15T09:43:03.859015Z",
     "shell.execute_reply.started": "2025-05-15T09:42:40.745588Z"
    },
    "jupyter": {
     "outputs_hidden": false
    },
    "trusted": true
   },
   "outputs": [],
   "source": [
    "sns.scatterplot(x = df.Start_Lng, y = df.Start_Lat, s = 20)"
   ]
  },
  {
   "cell_type": "code",
   "execution_count": null,
   "metadata": {
    "_cell_guid": "c0437204-ea21-4bf2-afc8-55b7951fb75a",
    "_uuid": "9dda4fe2-45e8-496b-9fc2-9854c0e875fd",
    "collapsed": false,
    "execution": {
     "iopub.execute_input": "2025-05-15T09:43:03.861576Z",
     "iopub.status.busy": "2025-05-15T09:43:03.861284Z",
     "iopub.status.idle": "2025-05-15T09:43:04.482682Z",
     "shell.execute_reply": "2025-05-15T09:43:04.481187Z",
     "shell.execute_reply.started": "2025-05-15T09:43:03.861555Z"
    },
    "jupyter": {
     "outputs_hidden": false
    },
    "trusted": true
   },
   "outputs": [],
   "source": [
    "# sample_df = df.sample(int(0.01 * len(df)))\n",
    "sample_df = df.sample(n=1000)"
   ]
  },
  {
   "cell_type": "code",
   "execution_count": null,
   "metadata": {
    "_cell_guid": "e0f352a2-6d4c-461d-a4e8-436e3740eead",
    "_uuid": "f93dc6be-d496-4b55-817e-68734620a375",
    "collapsed": false,
    "execution": {
     "iopub.execute_input": "2025-05-15T09:43:04.484489Z",
     "iopub.status.busy": "2025-05-15T09:43:04.484079Z",
     "iopub.status.idle": "2025-05-15T09:43:04.814399Z",
     "shell.execute_reply": "2025-05-15T09:43:04.813428Z",
     "shell.execute_reply.started": "2025-05-15T09:43:04.484456Z"
    },
    "jupyter": {
     "outputs_hidden": false
    },
    "trusted": true
   },
   "outputs": [],
   "source": [
    "sns.scatterplot(x = sample_df.Start_Lng, y = sample_df.Start_Lat, s = 20)"
   ]
  },
  {
   "cell_type": "code",
   "execution_count": null,
   "metadata": {
    "_cell_guid": "b61c068d-7497-4c8a-8482-b4157d84a779",
    "_uuid": "1efe6c14-6f74-4780-94a7-9d802b7e23a2",
    "collapsed": false,
    "execution": {
     "iopub.execute_input": "2025-05-15T09:46:06.018328Z",
     "iopub.status.busy": "2025-05-15T09:46:06.017964Z",
     "iopub.status.idle": "2025-05-15T09:46:06.534479Z",
     "shell.execute_reply": "2025-05-15T09:46:06.533448Z",
     "shell.execute_reply.started": "2025-05-15T09:46:06.018299Z"
    },
    "jupyter": {
     "outputs_hidden": false
    },
    "trusted": true
   },
   "outputs": [],
   "source": [
    "import folium\n",
    "m1 = folium.Map(location=[39.5, -98.35], zoom_start=4)\n",
    "for lat, lon in zip(sample_df.Start_Lat, sample_df.Start_Lng):\n",
    "    folium.CircleMarker(location=[lat, lon], radius=1, color='blue', fill=True).add_to(m1)\n",
    "m1"
   ]
  },
  {
   "cell_type": "code",
   "execution_count": null,
   "metadata": {
    "_cell_guid": "15bf7cac-b9fe-4b4b-ba9c-756b0997dcb4",
    "_uuid": "ab00d899-5952-45a8-9320-f65b4ee42ec8",
    "collapsed": false,
    "execution": {
     "iopub.execute_input": "2025-05-15T09:45:58.564708Z",
     "iopub.status.busy": "2025-05-15T09:45:58.564326Z",
     "iopub.status.idle": "2025-05-15T09:45:58.779471Z",
     "shell.execute_reply": "2025-05-15T09:45:58.778526Z",
     "shell.execute_reply.started": "2025-05-15T09:45:58.564679Z"
    },
    "jupyter": {
     "outputs_hidden": false
    },
    "trusted": true
   },
   "outputs": [],
   "source": [
    "from folium.plugins import HeatMap\n",
    "m2 = folium.Map(location=[39.5, -98.35], zoom_start=4)\n",
    "heat_data =(list( zip(sample_df.Start_Lat, sample_df.Start_Lng)))\n",
    "HeatMap(heat_data).add_to(m2)\n",
    "m2"
   ]
  },
  {
   "cell_type": "code",
   "execution_count": null,
   "metadata": {
    "_cell_guid": "fabef7e9-893b-41e2-99af-7cf16ef34ade",
    "_uuid": "5e741366-888a-4573-8e14-508a74831cd9",
    "collapsed": false,
    "jupyter": {
     "outputs_hidden": false
    },
    "trusted": true
   },
   "outputs": [],
   "source": []
  },
  {
   "cell_type": "markdown",
   "metadata": {
    "_cell_guid": "2464607f-9433-47bf-a119-4b99eeb841a7",
    "_uuid": "4df2110d-0d8e-4f19-85d7-db33c65552fe",
    "collapsed": false,
    "jupyter": {
     "outputs_hidden": false
    },
    "trusted": true
   },
   "source": [
    "## Interrogation\n",
    "\n",
    "1. Are there more accidents in warmer or colder areas?\n",
    "2. Which 5 states have the most number of acciddents? How about per capita?\n",
    "3. Does New York show up in the data?  If yes why is the count lower if this is the most popullated city?\n",
    "4. Among the Top 100 cities which state does they belong to most freequently?\n",
    "5. What time of the day are accidents most frequently in?\n",
    "6. Which days of the week have the most accidents?\n",
    "7. Which months have more accidents?\n",
    "8. Whats the trend of accidents year over year(increasing/decreasing?)\n",
    "9. When is accidents per unit of traffic the highest?"
   ]
  },
  {
   "cell_type": "markdown",
   "metadata": {
    "_cell_guid": "b4978ce2-01c2-4f0f-acd9-92aa6bcfd344",
    "_uuid": "91d331b5-7f1c-4a45-b0b1-d39cef8299b3",
    "collapsed": false,
    "jupyter": {
     "outputs_hidden": false
    },
    "trusted": true
   },
   "source": [
    "## Concluding Summary\n",
    "---\n",
    "\n",
    "- Less that 9% of cities have more than 1000 yearly accidents.\n",
    "- The no. of accidents per city decreases exponentially.\n",
    "- Over 1000 cities reported just one accident (need to investigate)."
   ]
  }
 ],
 "metadata": {
  "kaggle": {
   "accelerator": "none",
   "dataSources": [
    {
     "datasetId": 199387,
     "sourceId": 5793796,
     "sourceType": "datasetVersion"
    }
   ],
   "dockerImageVersionId": 31012,
   "isGpuEnabled": false,
   "isInternetEnabled": true,
   "language": "python",
   "sourceType": "notebook"
  },
  "kernelspec": {
   "display_name": "Python 3",
   "language": "python",
   "name": "python3"
  },
  "language_info": {
   "codemirror_mode": {
    "name": "ipython",
    "version": 3
   },
   "file_extension": ".py",
   "mimetype": "text/x-python",
   "name": "python",
   "nbconvert_exporter": "python",
   "pygments_lexer": "ipython3",
   "version": "3.11.11"
  }
 },
 "nbformat": 4,
 "nbformat_minor": 4
}
